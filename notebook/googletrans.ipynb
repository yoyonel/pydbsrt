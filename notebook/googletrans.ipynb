{
 "cells": [
  {
   "cell_type": "code",
   "execution_count": 6,
   "metadata": {},
   "outputs": [],
   "source": [
    "import pysrt\n",
    "subs_en = pysrt.open(\"Teenage.Mutant.Ninja.Turtles.1990.1080p.BluRay.H264.AAC-RARBG.srt\")\n",
    "subs_fr = pysrt.open(\"Teenage.Mutant.Ninja.Turtles.1990.iNTERNAL.DV-VH-PROD.french.srt\")"
   ]
  },
  {
   "cell_type": "code",
   "execution_count": 7,
   "metadata": {},
   "outputs": [
    {
     "data": {
      "application/vnd.jupyter.widget-view+json": {
       "model_id": "4e47e3bc59a8448cb14057e645cd8453",
       "version_major": 2,
       "version_minor": 0
      },
      "text/plain": [
       "HBox(children=(IntProgress(value=0, max=10), HTML(value='')))"
      ]
     },
     "metadata": {},
     "output_type": "display_data"
    },
    {
     "name": "stdout",
     "output_type": "stream",
     "text": [
      "\n"
     ]
    },
    {
     "data": {
      "text/plain": [
       "[('WOMAN [OVER TV]: Much more than\\njust a series of small, isolated incidents...',\n",
       "  'FEMME [OVER TV]: Bien plus que\\njuste une série de petits incidents isolés ...'),\n",
       " (\"...it's now apparent that an organized\\ncriminal element is at work.\",\n",
       "  \"... il est maintenant évident qu'un organisé\\nélément criminel est au travail.\"),\n",
       " ('And at the moment, business is good.',\n",
       "  'Et pour le moment, les affaires vont bien.'),\n",
       " ('So good, in fact,\\nthat there appear to be no eyewitnesses...',\n",
       "  \"Tellement bon, en fait,\\nqu'il semble n'y avoir aucun témoin oculaire ...\"),\n",
       " ('...to any of these crimes.', \"... à l'un de ces crimes.\"),\n",
       " ('With complaints ranging\\nfrom purse-snatching...',\n",
       "  \"Avec des plaintes allant\\nde vol à l'arraché ...\"),\n",
       " ('...to breaking and entering...', \"... d'entrer par effraction ...\"),\n",
       " ('...police switchboards\\nhave been swamped...',\n",
       "  '... les standards de la police\\nont été inondés ...'),\n",
       " ('...with the angry voices\\nof more and more citizens...',\n",
       "  '... avec les voix en colère\\nde plus en plus de citoyens ...'),\n",
       " ('...who have fallen prey\\nto the recent surge of crime...',\n",
       "  '... qui sont devenus une proie\\nà la récente montée de la criminalité ...')]"
      ]
     },
     "execution_count": 7,
     "metadata": {},
     "output_type": "execute_result"
    }
   ],
   "source": [
    "from py_translator import Translator\n",
    "from tqdm import tqdm_notebook as tqdm\n",
    "\n",
    "translator = Translator()\n",
    "subs_en_fr = [\n",
    "    (sub, translator.translate(text=sub.text, src='en', dest='fr').text)\n",
    "    for sub in tqdm(subs_en[:10])\n",
    "]\n",
    "[\n",
    "    (sub[0].text, sub[1])\n",
    "    for sub in subs_en_fr\n",
    "]"
   ]
  },
  {
   "cell_type": "code",
   "execution_count": 8,
   "metadata": {},
   "outputs": [],
   "source": [
    "from fuzzywuzzy import fuzz\n",
    "# be sure to validate the synchronization\n",
    "assert(fuzz.partial_ratio(subs_en_fr[0][1], subs_fr[0].text) > 60)"
   ]
  },
  {
   "cell_type": "code",
   "execution_count": 9,
   "metadata": {},
   "outputs": [],
   "source": [
    "# Process synchronization\n",
    "if subs_en[0].start >= subs_fr[0].start:\n",
    "    shift = (subs_en[0].start - subs_fr[0].start)\n",
    "else:\n",
    "    shift = (subs_fr[0].start - subs_en[0].start)\n",
    "subs_fr_shifted = subs_fr.copy()\n",
    "subs_fr_shifted.shift(minutes=shift.minutes, seconds=shift.seconds, milliseconds=shift.milliseconds)"
   ]
  },
  {
   "cell_type": "code",
   "execution_count": 10,
   "metadata": {},
   "outputs": [],
   "source": [
    "subs_fr_shifted.save('Teenage.Mutant.Ninja.Turtles.1990.iNTERNAL.DV-VH-PROD.french.shift.srt', encoding='utf-8')"
   ]
  }
 ],
 "metadata": {
  "kernelspec": {
   "display_name": "py3.5_pydbsrt",
   "language": "python",
   "name": "py3.5_pydbsrt"
  },
  "language_info": {
   "codemirror_mode": {
    "name": "ipython",
    "version": 3
   },
   "file_extension": ".py",
   "mimetype": "text/x-python",
   "name": "python",
   "nbconvert_exporter": "python",
   "pygments_lexer": "ipython3",
   "version": "3.5.3"
  }
 },
 "nbformat": 4,
 "nbformat_minor": 2
}
