{
 "cells": [
  {
   "cell_type": "code",
   "execution_count": 2,
   "metadata": {},
   "outputs": [],
   "source": [
    "from pythonopensubtitles.opensubtitles import OpenSubtitles\n",
    "\n",
    "ost = OpenSubtitles()"
   ]
  },
  {
   "cell_type": "markdown",
   "metadata": {},
   "source": [
    "# Authentification/Token from OpenSubtitle.org"
   ]
  },
  {
   "cell_type": "code",
   "execution_count": 3,
   "metadata": {},
   "outputs": [
    {
     "data": {
      "text/plain": [
       "'q0ego-41gLqX0YX,-RiEjYF33Ib'"
      ]
     },
     "execution_count": 3,
     "metadata": {},
     "output_type": "execute_result"
    }
   ],
   "source": [
    "import os\n",
    "\n",
    "token = ost.login(\n",
    "    os.environ.get(\"IMDB_LOGIN\"), \n",
    "    os.environ.get(\"IMDB_PASSWORD\")\n",
    ")\n",
    "assert type(token) == str\n",
    "token"
   ]
  },
  {
   "cell_type": "markdown",
   "metadata": {},
   "source": [
    "# Search the movie (title) on IMDB"
   ]
  },
  {
   "cell_type": "code",
   "execution_count": 5,
   "metadata": {},
   "outputs": [],
   "source": [
    "# For example\n",
    "searched_movie_title = 'Teenage.Mutant.Ninja.Turtles.1990'"
   ]
  },
  {
   "cell_type": "code",
   "execution_count": 6,
   "metadata": {},
   "outputs": [
    {
     "name": "stdout",
     "output_type": "stream",
     "text": [
      "{'status': '200 OK', 'seconds': 0.004, 'data': [{'from_redis': 'false', 'id': '0110912', 'title': 'Pulp Fiction (1994)'}, {'id': '1291150', 'title': 'Teenage Mutant Ninja Turtles (2014)'}, {'id': '0100758', 'title': 'Teenage Mutant Ninja Turtles (1990)'}, {'id': '1877889', 'title': 'Teenage Mutant Ninja Turtles (2012) (TV Series)'}, {'id': '0131613', 'title': 'Teenage Mutant Ninja Turtles (1987) (TV Series)'}, {'id': '0318913', 'title': 'Teenage Mutant Ninja Turtles (2003) (TV Series)'}, {'id': '0108308', 'title': 'Teenage Mutant Ninja Turtles III (1993)'}, {'id': '7644906', 'title': 'Teenage Mutant Ninja Turtles (1989) (2015) (TV Episode) - Season 1 | Episode 45 -'}, {'id': '7389552', 'title': 'Cereal Time (2014) (TV Series)'}, {'id': '3821720', 'title': 'Teenage Mutant Ninja Turtles (1987) (2014) (TV Episode) - Season 2 | Episode 2 -'}, {'id': '3817982', 'title': 'The Asian Critic Chick (2013) (TV Series)'}, {'id': '0276551', 'title': 'Teenage Mutant Ninja Turtles (1989) (Video Game)'}, {'id': '3949660', 'title': 'Teenage Mutant Ninja Turtles: Out of the Shadows (2016)'}, {'id': '0433090', 'title': 'Teenage Mutant Ninja Turtles (2003) (Video Game)'}, {'id': '1038098', 'title': 'Teenage Mutant Ninja Turtles (2007) (Video Game)'}, {'id': '4224442', 'title': 'Teenage Mutant Ninja Turtles (2014) (Video Game)'}, {'id': '6360326', 'title': 'TeenageMutantNinjaTurtles.com (2014) (TV Series)'}, {'id': '2336060', 'title': 'Gekikame Ninja Den (1989) (Video Game)'}, {'id': '6280554', 'title': 'Teenage Mutant Ninja Turtles #1 (2017) (TV Episode) - Season 10 | Episode 3 -'}, {'id': '2140038295', 'title': 'ninja assassin 2009 (1234)'}, {'id': '2140039007', 'title': 'ninja turtles SÙ\\xa0Ù§EÙ©Ù¤ (2014)'}, {'id': '1966306157', 'title': 'Memoirs of a Lady Ninja 2 (2011)'}, {'id': '2140041610', 'title': 'Madonna - Vogue (MTV Video Music Awards - 1990) (1990)'}, {'id': '2140038140', 'title': 'teenage mutant ninja turtles out of the shadows E00 (2016)'}, {'id': '2140037531', 'title': 'tenaage mutant ninja turtles 2016 S01E02 (2016)'}, {'id': '2140038633', 'title': 'the return ninja (2016)'}, {'id': '2140040907', 'title': 'Katy Perry - Teenage Dream (Kaskade remix) (2010)'}, {'id': '1999569862', 'title': 'Katy Perry - Teenage Dream (2010)'}, {'id': '2140040908', 'title': 'Katy Perry - Teenage Dream (lyric video) (2010)'}, {'id': '2140038086', 'title': 'teenage mutant ninja turtle2 (2016)'}]}\n"
     ]
    },
    {
     "data": {
      "text/plain": [
       "{'id': '0100758', 'title': 'Teenage Mutant Ninja Turtles (1990)'}"
      ]
     },
     "execution_count": 6,
     "metadata": {},
     "output_type": "execute_result"
    }
   ],
   "source": [
    "from fuzzywuzzy import fuzz\n",
    "\n",
    "# http://trac.opensubtitles.org/projects/opensubtitles/wiki/XMLRPC#SearchMoviesOnIMDB\n",
    "data = ost.search_movies_on_imdb(searched_movie_title)\n",
    "# print(data)\n",
    "# https://github.com/seatgeek/fuzzywuzzy\n",
    "best_match = max(data['data'], \n",
    "                 key=lambda imdb_content: fuzz.ratio(imdb_content['title'], searched_movie_title))\n",
    "# IMDB id\n",
    "imdb_id = best_match['id']\n",
    "best_match"
   ]
  },
  {
   "cell_type": "markdown",
   "metadata": {},
   "source": [
    "# Using IMDB ID to find subtitles on OpenSubtitle.org"
   ]
  },
  {
   "cell_type": "code",
   "execution_count": 5,
   "metadata": {},
   "outputs": [],
   "source": [
    "# https://github.com/emericg/OpenSubtitlesDownload/wiki/Language-list\n",
    "# http://trac.opensubtitles.org/projects/opensubtitles/wiki/XML-RPC-debugger\n",
    "# http://trac.opensubtitles.org/projects/opensubtitles/wiki/XMLRPC#SearchSubtitles\n",
    "# asking/searching for a particulier imdb id movie and a specific id language (french)\n",
    "params = [\n",
    "    {\n",
    "        'imdbid': imdb_id,\n",
    "        'sublanguageid': 'fre',\n",
    "    }\n",
    "]"
   ]
  },
  {
   "cell_type": "code",
   "execution_count": 6,
   "metadata": {},
   "outputs": [
    {
     "data": {
      "text/plain": [
       "[{'IDMovie': '2915',\n",
       "  'IDMovieImdb': '100758',\n",
       "  'IDSubMovieFile': '0',\n",
       "  'IDSubtitle': '36292',\n",
       "  'IDSubtitleFile': '43956',\n",
       "  'ISO639': 'fr',\n",
       "  'InfoFormat': '',\n",
       "  'InfoOther': '',\n",
       "  'InfoReleaseGroup': '',\n",
       "  'LanguageName': 'French',\n",
       "  'MatchedBy': 'imdbid',\n",
       "  'MovieByteSize': '0',\n",
       "  'MovieFPS': '0.000',\n",
       "  'MovieHash': '0',\n",
       "  'MovieImdbRating': '6.7',\n",
       "  'MovieKind': 'movie',\n",
       "  'MovieName': 'Teenage Mutant Ninja Turtles',\n",
       "  'MovieNameEng': '',\n",
       "  'MovieReleaseName': 'Teenage Mutant Ninja Turtles (1990)',\n",
       "  'MovieTimeMS': '0',\n",
       "  'MovieYear': '1990',\n",
       "  'QueryCached': 1,\n",
       "  'QueryNumber': '0',\n",
       "  'QueryParameters': {'imdbid': '0100758', 'sublanguageid': 'fre'},\n",
       "  'Score': 16.04912,\n",
       "  'SeriesEpisode': '0',\n",
       "  'SeriesIMDBParent': '0',\n",
       "  'SeriesSeason': '0',\n",
       "  'SubActualCD': '1',\n",
       "  'SubAddDate': '2002-12-09 00:00:00',\n",
       "  'SubAuthorComment': '',\n",
       "  'SubAutoTranslation': '0',\n",
       "  'SubBad': '0',\n",
       "  'SubComments': '0',\n",
       "  'SubDownloadLink': 'http://dl.opensubtitles.org/en/download/src-api/vrf-de120b54/sid-hivhp8RE7GV8YnbHJ-ZJ1VU6BId/file/43956.gz',\n",
       "  'SubDownloadsCnt': '4912',\n",
       "  'SubEncoding': 'CP1252',\n",
       "  'SubFeatured': '0',\n",
       "  'SubFileName': 'tmnt1-fra.srt',\n",
       "  'SubForeignPartsOnly': '0',\n",
       "  'SubFormat': 'srt',\n",
       "  'SubFromTrusted': '0',\n",
       "  'SubHD': '0',\n",
       "  'SubHash': 'e10f1d0224a7e0d783ff9d5c4ced590c',\n",
       "  'SubHearingImpaired': '0',\n",
       "  'SubLanguageID': 'fre',\n",
       "  'SubLastTS': '01:27:28',\n",
       "  'SubRating': '0.0',\n",
       "  'SubSize': '68898',\n",
       "  'SubSumCD': '1',\n",
       "  'SubSumVotes': '0',\n",
       "  'SubTSGroup': '7',\n",
       "  'SubTSGroupHash': 'fe9b4f9e24363f6c190728483134814f',\n",
       "  'SubTranslator': '',\n",
       "  'SubtitlesLink': 'http://www.opensubtitles.org/en/subtitles/36292/sid-hivhp8RE7GV8YnbHJ-ZJ1VU6BId/teenage-mutant-ninja-turtles-fr',\n",
       "  'UserID': '40354',\n",
       "  'UserNickName': 'brodtjr (a)',\n",
       "  'UserRank': 'bronze member',\n",
       "  'ZipDownloadLink': 'http://dl.opensubtitles.org/en/download/src-api/vrf-de080b4f/sid-hivhp8RE7GV8YnbHJ-ZJ1VU6BId/sub/36292'}]"
      ]
     },
     "execution_count": 6,
     "metadata": {},
     "output_type": "execute_result"
    }
   ],
   "source": [
    "ost.no_operation()\n",
    "# http://trac.opensubtitles.org/projects/opensubtitles/wiki/XMLRPC#SearchSubtitles\n",
    "found_subtitles = ost.search_subtitles(params=params)\n",
    "found_subtitles"
   ]
  },
  {
   "cell_type": "markdown",
   "metadata": {},
   "source": [
    "# Download subtitles"
   ]
  },
  {
   "cell_type": "code",
   "execution_count": 7,
   "metadata": {},
   "outputs": [
    {
     "data": {
      "text/plain": [
       "['43956']"
      ]
     },
     "execution_count": 7,
     "metadata": {},
     "output_type": "execute_result"
    }
   ],
   "source": [
    "# Get OpenSubtitles IDs \n",
    "id_subtitles = [\n",
    "    subtitle['IDSubtitleFile']\n",
    "    for subtitle in found_subtitles\n",
    "]\n",
    "id_subtitles"
   ]
  },
  {
   "cell_type": "code",
   "execution_count": 8,
   "metadata": {},
   "outputs": [
    {
     "name": "stdout",
     "output_type": "stream",
     "text": [
      "'utf-8' codec can't decode byte 0xb4 in position 46: invalid start byte\n"
     ]
    },
    {
     "data": {
      "text/plain": [
       "{'43956': './43956.srt'}"
      ]
     },
     "execution_count": 8,
     "metadata": {},
     "output_type": "execute_result"
    }
   ],
   "source": [
    "# http://trac.opensubtitles.org/projects/opensubtitles/wiki/XMLRPC#DownloadSubtitles\n",
    "\n",
    "# Download\n",
    "data = ost.download_subtitles(\n",
    "    id_subtitles, \n",
    "#     override_filenames={'id_subtitle': 'output_filename.srt'}, \n",
    "#     output_directory='', \n",
    "    extension='srt'\n",
    ")\n",
    "data"
   ]
  }
 ],
 "metadata": {
  "kernelspec": {
   "display_name": "py3.5_pydbsrt",
   "language": "python",
   "name": "py3.5_pydbsrt"
  },
  "language_info": {
   "codemirror_mode": {
    "name": "ipython",
    "version": 3
   },
   "file_extension": ".py",
   "mimetype": "text/x-python",
   "name": "python",
   "nbconvert_exporter": "python",
   "pygments_lexer": "ipython3",
   "version": "3.5.3"
  }
 },
 "nbformat": 4,
 "nbformat_minor": 2
}
